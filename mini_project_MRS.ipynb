{
  "cells": [
    {
      "cell_type": "code",
      "execution_count": 1,
      "metadata": {
        "colab": {
          "base_uri": "https://localhost:8080/"
        },
        "id": "_E6OWKVkgSDk",
        "outputId": "12e38a93-debb-4aa2-e24f-0e0a3924f17b"
      },
      "outputs": [
        {
          "output_type": "stream",
          "name": "stdout",
          "text": [
            "Mounted at /content/drive\n"
          ]
        }
      ],
      "source": [
        "from google.colab import drive\n",
        "drive.mount('/content/drive')"
      ]
    },
    {
      "cell_type": "code",
      "execution_count": null,
      "metadata": {
        "id": "2qVgO1MNgekK"
      },
      "outputs": [],
      "source": [
        "import pandas as pd\n",
        "music_df=pd.read_csv(\"/content/drive/MyDrive/song-dataset.csv\")"
      ]
    },
    {
      "cell_type": "code",
      "execution_count": null,
      "metadata": {
        "colab": {
          "base_uri": "https://localhost:8080/"
        },
        "id": "-fVrYsrJgeob",
        "outputId": "bdb99a64-04c7-4c21-c958-2fe7e2dcf378"
      },
      "outputs": [
        {
          "name": "stdout",
          "output_type": "stream",
          "text": [
            "Unnamed: 0            int64\n",
            "song_id              object\n",
            "Artist Name          object\n",
            "album_name           object\n",
            "Song Name            object\n",
            "popularity            int64\n",
            "duration_ms           int64\n",
            "explicit               bool\n",
            "danceability        float64\n",
            "energy              float64\n",
            "key                   int64\n",
            "loudness            float64\n",
            "mode                  int64\n",
            "speechiness         float64\n",
            "acousticness        float64\n",
            "instrumentalness    float64\n",
            "liveness            float64\n",
            "valence             float64\n",
            "tempo               float64\n",
            "time_signature        int64\n",
            "track_genre          object\n",
            "dtype: object\n"
          ]
        }
      ],
      "source": [
        "print(music_df.dtypes)"
      ]
    },
    {
      "cell_type": "code",
      "execution_count": null,
      "metadata": {
        "colab": {
          "base_uri": "https://localhost:8080/"
        },
        "id": "cDRWRQEygerk",
        "outputId": "505369b6-ae8b-43dc-86de-1a34400b0447"
      },
      "outputs": [
        {
          "name": "stdout",
          "output_type": "stream",
          "text": [
            "The Top 10 Song Recommendation System\n",
            "-------------------------------------\n",
            "This will generate the 10 songs from the database those are similar to the song you entered.\n",
            "Please enter the name of song: Closer\n",
            "You should check out these songs: \n",
            "\n",
            "Hallelujah\n",
            "Memories\n",
            "Photograph\n",
            "Demons\n",
            "Mirrors\n",
            "Beautiful Soul\n",
            "Heaven\n",
            "A Thousand Years\n",
            "Chasing Cars\n",
            "Bleeding Love\n",
            "Thinking out Loud\n",
            "Someone You Loved\n",
            "Hey There Delilah\n",
            "Fast Car\n",
            "Someone Like You\n",
            "Tears In Heaven\n",
            "A Thousand Miles\n",
            "We Can't Stop\n",
            "Scared to Be Lonely\n",
            "See You Again\n",
            "Can’t Help Falling in Love\n",
            "In Case You Didn’t Know\n",
            "Love Me Like You Do\n",
            "Just the Way You Are\n",
            "When I Was Your Man\n",
            "The One That Got Away\n",
            "Time After Time\n",
            "I'll Be There For You (Friends Theme)\n",
            "I Like Me Better\n",
            "\n",
            "\n"
          ]
        }
      ],
      "source": [
        "# import required dependencies\n",
        "import pandas as pd\n",
        "from sklearn.feature_extraction.text import CountVectorizer\n",
        "from sklearn.metrics.pairwise import cosine_similarity\n",
        "\n",
        "# read the data\n",
        "df = pd.read_csv(\"/content/drive/MyDrive/song-dataset.csv\", low_memory=False)[:1000]\n",
        "\n",
        "# remove duplicates\n",
        "df = df.drop_duplicates(subset=\"Song Name\")\n",
        "\n",
        "# drop Null values\n",
        "df = df.dropna(axis=0)\n",
        "\n",
        "# Drop the non-required columns\n",
        "df = df.drop(df.columns[1:2], axis=1)\n",
        "df = df.drop(df.columns[5:19], axis=1)\n",
        "df = df.drop(df.columns[-1], axis=1)\n",
        "\n",
        "# Removing space from \"Artist Name\" column\n",
        "df[\"Artist Name\"] = df[\"Artist Name\"].str.replace(\" \", \"\")\n",
        "\n",
        "# Combine all columns and assign as new column\n",
        "df[\"data\"] = df.apply(lambda value: \" \".join(value.astype(\"str\")), axis=1)\n",
        "\n",
        "# models\n",
        "vectorizer = CountVectorizer()\n",
        "vectorized = vectorizer.fit_transform(df[\"data\"])\n",
        "similarities = cosine_similarity(vectorized)\n",
        "\n",
        "# Assign the new dataframe with `similarities` values\n",
        "df_tmp = pd.DataFrame(similarities, columns=df[\"Song Name\"], index=df[\"Song Name\"]).reset_index()\n",
        "\n",
        "true = True\n",
        "while true:\n",
        "    print(\"The Top 30 Song Recommendation System\")\n",
        "    print(\"-------------------------------------\")\n",
        "    print(\"This will generate the 30 songs from the database those are similar to the song you entered.\")\n",
        "\n",
        "    # Asking the user for a song, it will loop until the song name is in our database.\n",
        "    while True:\n",
        "        input_song = input(\"Please enter the name of song: \")\n",
        "\n",
        "        if input_song in df_tmp.columns:\n",
        "            recommendation = df_tmp.nlargest(30\\, input_song)[\"Song Name\"]\n",
        "            break\n",
        "\n",
        "        else:\n",
        "            print(\"Sorry, there is no song name in our database. Please try another one.\")\n",
        "\n",
        "    print(\"You should check out these songs: \\n\")\n",
        "    for song in recommendation.values[1:]:\n",
        "        print(song)\n",
        "\n",
        "    print(\"\\n\")\n",
        "    # Asking the user for the next command, it will loop until the right command.\n",
        "    while True:\n",
        "        next_command = input(\"Do you want to generate again for the next song? [yes, no] \")\n",
        "\n",
        "        if next_command == \"yes\":\n",
        "            break\n",
        "\n",
        "        elif next_command == \"no\":\n",
        "            # `true` will be false. It will stop the whole script\n",
        "            true = False\n",
        "            break\n",
        "\n",
        "        else:\n",
        "            print(\"Please type 'yes' or 'no'\")"
      ]
    },
    {
      "cell_type": "code",
      "execution_count": null,
      "metadata": {
        "id": "ziTTnfgAgeuR"
      },
      "outputs": [],
      "source": []
    }
  ],
  "metadata": {
    "colab": {
      "provenance": []
    },
    "kernelspec": {
      "display_name": "Python 3",
      "name": "python3"
    },
    "language_info": {
      "name": "python"
    }
  },
  "nbformat": 4,
  "nbformat_minor": 0
}